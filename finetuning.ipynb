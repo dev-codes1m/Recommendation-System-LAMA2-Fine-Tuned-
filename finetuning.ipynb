{
 "cells": [
  {
   "cell_type": "code",
   "execution_count": null,
   "metadata": {},
   "outputs": [],
   "source": [
    "import pandas as pd\n",
    "\n",
    "data = pd.read_json(\"Dataset for DS Case Study.json\",lines=True)\n",
    "\n",
    "def format_instruction(reviewText: str, summary: str):\n",
    "    return f\"\"\"### Instruction:\n",
    "Recommend Product From The User Data.\n",
    "\n",
    "### Input:\n",
    "{reviewText.strip()}\n",
    "\n",
    "### Summary:\n",
    "{summary}\n",
    "\"\"\".strip()\n",
    "\n",
    "\n",
    "def generate_instruction_dataset(data_point):\n",
    "    return {\n",
    "        \"reviewText\": data_point[\"reviewText\"],\n",
    "        \"summary\": data_point[\"summary\"],\n",
    "        \"text\": format_instruction(data_point[\"reviewText\"],data_point[\"summary\"])\n",
    "    }\n",
    "\n",
    "def process_dataset(data: pd.DataFrame):\n",
    "    data = data.apply(generate_instruction_dataset, axis=1, result_type='expand')\n",
    "    columns_to_drop = ['reviewerID', 'asin','reviewerName','helpful','overall','unixReviewTime','reviewTime']\n",
    "    data = data.drop(columns=[col for col in columns_to_drop if col in data.columns])\n",
    "    return data\n",
    "    \n",
    "## APPLYING PREPROCESSING ON WHOLE DATASET\n",
    "data_train = process_dataset(data[:5000])\n",
    "data_test = process_dataset(data[5000:7000])\n",
    "data_validation = process_dataset(data[7000:8000])\n",
    "\n",
    "# Select 1000 rows from the training split\n",
    "train_data = data_train[:1000]\n",
    "\n",
    "# Select 100 rows from the test and validation splits\n",
    "test_data = data_test[:500]\n",
    "validation_data = data_validation[:50]\n",
    "\n",
    "train_data,test_data,validation_data"
   ]
  }
 ],
 "metadata": {
  "language_info": {
   "name": "python"
  }
 },
 "nbformat": 4,
 "nbformat_minor": 2
}
