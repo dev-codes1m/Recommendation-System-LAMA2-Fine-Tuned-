{
 "cells": [
  {
   "cell_type": "code",
   "execution_count": 131,
   "metadata": {},
   "outputs": [],
   "source": [
    "import pandas as pd\n",
    "import numpy as np\n",
    "\n",
    "data = pd.read_csv('grouped_data.csv')"
   ]
  },
  {
   "cell_type": "code",
   "execution_count": 132,
   "metadata": {},
   "outputs": [
    {
     "data": {
      "text/plain": [
       "(2928, 4)"
      ]
     },
     "execution_count": 132,
     "metadata": {},
     "output_type": "execute_result"
    }
   ],
   "source": [
    "data.shape"
   ]
  },
  {
   "cell_type": "code",
   "execution_count": 133,
   "metadata": {},
   "outputs": [
    {
     "data": {
      "text/plain": [
       "\"Perfect for filling up oil in my car which has a plastic cover over the entire engine bay and the oil input is kinda sunk down a little. Plus it can hold the quart of oil for you., Good plastic container for the price to put oil in after each change. holds 12 quarts. Afterwards you can take to a recycle center and pour it out. Only thing is I wish it had a better made lid with better seal because eventually it will wear out., It suds up good, i used this in an attached sprayer bottle on my hose and it foamed up good spraying it out. Noticed after rinsing it immediately started beading water off which is a good sign. Only time will tell on how long it will last. As far as cleaning power it does fairly good, but i've seen better. Then again it is trying to do two jobs in one. The best cleaning of a car is in steps, but for an all in one cleaner and wax i think this outperforms most., Used it to fill a tahoe and a small car, both works well and the pump doesn't even drag at all. Nicely built pump compressor, recommend this over the cheaper plastic ones., Works dang good, has light at end for seeing yourself to the tire stem. Has backlit screen showing tire pressues in lbs or other increments. Cuts off after a minute or so or you can hold down and turn off. So far has been better than most Accuair gauges.\""
      ]
     },
     "execution_count": 133,
     "metadata": {},
     "output_type": "execute_result"
    }
   ],
   "source": [
    "data['reviewText'][0]"
   ]
  },
  {
   "cell_type": "code",
   "execution_count": 134,
   "metadata": {},
   "outputs": [],
   "source": [
    "from langchain_groq import ChatGroq\n",
    "from langchain_community.vectorstores import FAISS\n",
    "from langchain import PromptTemplate\n",
    "from langchain_text_splitters import RecursiveCharacterTextSplitter\n",
    "from langchain_huggingface import HuggingFaceEmbeddings\n",
    "from langchain.chains.combine_documents import create_stuff_documents_chain\n",
    "import os\n",
    "from dotenv import load_dotenv\n",
    "load_dotenv()\n",
    "api_key = os.getenv(\"GROQ_API_KEY\")\n"
   ]
  },
  {
   "cell_type": "code",
   "execution_count": 135,
   "metadata": {},
   "outputs": [],
   "source": [
    "os.getenv(\"HF_TOKEN\")\n",
    "llm = ChatGroq(model_name = \"Gemma-7b-It\",groq_api_key=api_key)\n",
    "embeddings=HuggingFaceEmbeddings(model_name=\"sentence-transformers/all-MiniLM-L6-v2\")\n"
   ]
  },
  {
   "cell_type": "code",
   "execution_count": 136,
   "metadata": {},
   "outputs": [
    {
     "data": {
      "text/plain": [
       "HuggingFaceEmbeddings(client=SentenceTransformer(\n",
       "  (0): Transformer({'max_seq_length': 256, 'do_lower_case': False}) with Transformer model: BertModel \n",
       "  (1): Pooling({'word_embedding_dimension': 384, 'pooling_mode_cls_token': False, 'pooling_mode_mean_tokens': True, 'pooling_mode_max_tokens': False, 'pooling_mode_mean_sqrt_len_tokens': False, 'pooling_mode_weightedmean_tokens': False, 'pooling_mode_lasttoken': False, 'include_prompt': True})\n",
       "  (2): Normalize()\n",
       "), model_name='sentence-transformers/all-MiniLM-L6-v2', cache_folder=None, model_kwargs={}, encode_kwargs={}, multi_process=False, show_progress=False)"
      ]
     },
     "execution_count": 136,
     "metadata": {},
     "output_type": "execute_result"
    }
   ],
   "source": [
    "embeddings"
   ]
  },
  {
   "cell_type": "code",
   "execution_count": 137,
   "metadata": {},
   "outputs": [
    {
     "data": {
      "text/plain": [
       "ChatGroq(client=<groq.resources.chat.completions.Completions object at 0x000002999B638C70>, async_client=<groq.resources.chat.completions.AsyncCompletions object at 0x00000299A52054B0>, model_name='Gemma-7b-It', groq_api_key=SecretStr('**********'))"
      ]
     },
     "execution_count": 137,
     "metadata": {},
     "output_type": "execute_result"
    }
   ],
   "source": [
    "llm"
   ]
  },
  {
   "cell_type": "code",
   "execution_count": 138,
   "metadata": {},
   "outputs": [],
   "source": [
    "from langchain_text_splitters import RecursiveCharacterTextSplitter\n",
    "# Split\n",
    "text_splitter = RecursiveCharacterTextSplitter(chunk_size=500, chunk_overlap=0)\n",
    "def store_review_text(data):\n",
    "    split = text_splitter.split_text(data.lower())\n",
    "    store = FAISS.from_texts(texts=split,embedding=embeddings)\n",
    "    return store\n",
    "def store_summary(data):\n",
    "    split = text_splitter.split_text(data.lower())\n",
    "    store = FAISS.from_texts(texts=split,embedding=embeddings)\n",
    "    return store"
   ]
  },
  {
   "cell_type": "code",
   "execution_count": 139,
   "metadata": {},
   "outputs": [],
   "source": [
    "splits = [text_splitter.split_text(x) for x in data['summary'][:1000]]\n",
    "texts = [item for sublist in splits for item in sublist]\n"
   ]
  },
  {
   "cell_type": "code",
   "execution_count": 140,
   "metadata": {},
   "outputs": [],
   "source": [
    "\n",
    "store = FAISS.from_texts(texts=texts,embedding=embeddings)"
   ]
  },
  {
   "cell_type": "code",
   "execution_count": null,
   "metadata": {},
   "outputs": [
    {
     "data": {
      "text/plain": [
       "[Document(page_content='great mask, great gloves, best gloves, wow what a jacket !!, awesome goggles'),\n",
       " Document(page_content='I love my Leather Chaps, Metal Disc Lock, Kuryakyn Electrical Power Point, Love my net., I love my Fleece Mask, Make sure you fasten your bults first before you take it for a ride., I love to ride with my Skull Face Mask.'),\n",
       " Document(page_content='The BEST!!!, FAST service, GREAT price, SUPER product !!!, GREAT GREAT GREAT, Great Goggles, Great price, Nice Gloves !!, BIG Mirror !!'),\n",
       " Document(page_content=\"So far so good, Great gloves for the price!, Love it! Didn't feel the cold wind this weekend at all!, Incredible !!, Works great\")]"
      ]
     },
     "execution_count": 104,
     "metadata": {},
     "output_type": "execute_result"
    }
   ],
   "source": [
    "store.similarity_search(\"great mask, great gloves, best gloves,\")"
   ]
  },
  {
   "cell_type": "code",
   "execution_count": null,
   "metadata": {},
   "outputs": [],
   "source": [
    "store.save_local(\"summary_store\")"
   ]
  },
  {
   "cell_type": "code",
   "execution_count": null,
   "metadata": {},
   "outputs": [],
   "source": [
    "splits = [text_splitter.split_text(x) for x in data['reviewText'][:1000]]\n",
    "texts = [item for sublist in splits for item in sublist]\n",
    "\n",
    "review_store = FAISS.from_texts(texts=texts,embedding=embeddings)"
   ]
  },
  {
   "cell_type": "code",
   "execution_count": null,
   "metadata": {},
   "outputs": [],
   "source": [
    "review_store.save_local('reviewText_store')"
   ]
  },
  {
   "cell_type": "code",
   "execution_count": null,
   "metadata": {},
   "outputs": [],
   "source": []
  }
 ],
 "metadata": {
  "kernelspec": {
   "display_name": "mynewenv",
   "language": "python",
   "name": "python3"
  },
  "language_info": {
   "codemirror_mode": {
    "name": "ipython",
    "version": 3
   },
   "file_extension": ".py",
   "mimetype": "text/x-python",
   "name": "python",
   "nbconvert_exporter": "python",
   "pygments_lexer": "ipython3",
   "version": "3.10.4"
  }
 },
 "nbformat": 4,
 "nbformat_minor": 2
}
